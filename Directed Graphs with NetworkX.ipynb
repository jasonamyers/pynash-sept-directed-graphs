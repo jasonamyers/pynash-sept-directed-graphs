{
 "cells": [
  {
   "cell_type": "markdown",
   "metadata": {},
   "source": [
    "# Directed Graphs with NetworkX"
   ]
  },
  {
   "cell_type": "markdown",
   "metadata": {},
   "source": [
    "## What is a Directed Graph\n",
    "\n",
    "* A graph is a data structure that contains some nodes connected by edges\n",
    "* A directed graph is a graph where the connections (edges) between the nodes have a direction"
   ]
  },
  {
   "cell_type": "markdown",
   "metadata": {},
   "source": [
    "# When would I use this thing?\n",
    "\n",
    "* History/change tracking (Git)\n",
    "* Spreadsheet used them when building functions that contain dependant cells\n",
    "* Deadlock detection and visualization\n",
    "* Tree structures were order/ancestry is important"
   ]
  },
  {
   "cell_type": "markdown",
   "metadata": {},
   "source": [
    "## Our Problem\n",
    "\n",
    "* I have 50ish docker files\n",
    "* I want a way to visualizes their interdependance\n",
    "* I want a way to determine the small set of docker files I can rebuild on a change of a container"
   ]
  },
  {
   "cell_type": "code",
   "execution_count": 1,
   "metadata": {
    "collapsed": false
   },
   "outputs": [],
   "source": [
    "import os\n",
    "import fnmatch\n",
    "from collections import defaultdict\n",
    "\n",
    "import networkx as nx\n",
    "from ordered_set import OrderedSet\n",
    "\n",
    "from dockmatrix.dockerfile_parser import DockerfileParser"
   ]
  },
  {
   "cell_type": "code",
   "execution_count": 2,
   "metadata": {
    "collapsed": false
   },
   "outputs": [],
   "source": [
    "dockerfiles_path = '../kolla/docker/'\n",
    "dockertree = {}\n",
    "graph = nx.DiGraph(name='dockalypse')\n",
    "roots = set()"
   ]
  },
  {
   "cell_type": "markdown",
   "metadata": {},
   "source": [
    "### Fast Scanning for Filename patterns"
   ]
  },
  {
   "cell_type": "code",
   "execution_count": 3,
   "metadata": {
    "collapsed": false
   },
   "outputs": [],
   "source": [
    "for root, dirnames, filenames, in os.walk(dockerfiles_path):\n",
    "    for filename in fnmatch.filter(filenames, 'Dockerfile'):\n",
    "        dockerfile = os.path.abspath(os.path.join(root, filename))\n",
    "        container_name = os.path.split(root)[1]\n",
    "        dockertree[container_name] = {\n",
    "            'dockerfile': dockerfile\n",
    "        }"
   ]
  },
  {
   "cell_type": "markdown",
   "metadata": {},
   "source": [
    "### Parsing the Dockerfiles to get the base container"
   ]
  },
  {
   "cell_type": "code",
   "execution_count": 4,
   "metadata": {
    "collapsed": false
   },
   "outputs": [],
   "source": [
    "for item, value in dockertree.iteritems():\n",
    "    d = DockerfileParser(value['dockerfile'])\n",
    "    base = str(d.baseimage)\n",
    "    base = base.replace('%%NAMESPACE%%/', '')\n",
    "    base = base.replace('%%BASE_OS%%', 'rhel-osp-base')\n",
    "    dockertree[item]['base'] = base"
   ]
  },
  {
   "cell_type": "markdown",
   "metadata": {},
   "source": [
    "### Building the graph by finding the roots and adding the edges"
   ]
  },
  {
   "cell_type": "code",
   "execution_count": 5,
   "metadata": {
    "collapsed": false
   },
   "outputs": [],
   "source": [
    "struct = defaultdict(list)\n",
    "for item, value in dockertree.iteritems():\n",
    "    struct[value.get('base')].append(item)\n",
    "\n",
    "for item, value in struct.iteritems():\n",
    "    root = True\n",
    "    for value_list in struct.values():\n",
    "        if item in value_list:\n",
    "            root = False\n",
    "            break\n",
    "    if root:\n",
    "        roots.add(item)\n",
    "    for cont in value:\n",
    "        graph.add_edge(item, cont)"
   ]
  },
  {
   "cell_type": "code",
   "execution_count": 6,
   "metadata": {
    "collapsed": false
   },
   "outputs": [
    {
     "name": "stdout",
     "output_type": "stream",
     "text": [
      "Name: dockalypse\n",
      "Type: DiGraph\n",
      "Number of nodes: 69\n",
      "Number of edges: 63\n",
      "Average in degree:   0.9130\n",
      "Average out degree:   0.9130\n"
     ]
    }
   ],
   "source": [
    "print(nx.info(graph))"
   ]
  },
  {
   "cell_type": "code",
   "execution_count": 7,
   "metadata": {
    "collapsed": false
   },
   "outputs": [
    {
     "data": {
      "text/plain": [
       "{'swift-account', 'swift-container', 'swift-object', 'swift-proxy-server'}"
      ]
     },
     "execution_count": 7,
     "metadata": {},
     "output_type": "execute_result"
    }
   ],
   "source": [
    "nx.descendants(graph, 'swift-base')"
   ]
  },
  {
   "cell_type": "code",
   "execution_count": 8,
   "metadata": {
    "collapsed": false
   },
   "outputs": [
    {
     "data": {
      "text/plain": [
       "[('ceilometer-base', 'ceilometer-collector'),\n",
       " ('ceilometer-base', 'ceilometer-notification'),\n",
       " ('ceilometer-base', 'ceilometer-api'),\n",
       " ('ceilometer-base', 'ceilometer-compute'),\n",
       " ('ceilometer-base', 'ceilometer-alarm'),\n",
       " ('ceilometer-base', 'ceilometer-central')]"
      ]
     },
     "execution_count": 8,
     "metadata": {},
     "output_type": "execute_result"
    }
   ],
   "source": [
    "list(nx.dfs_edges(graph, 'ceilometer-base'))"
   ]
  },
  {
   "cell_type": "markdown",
   "metadata": {},
   "source": [
    "### Printing a graph in ascii without matplotlib "
   ]
  },
  {
   "cell_type": "code",
   "execution_count": 9,
   "metadata": {
    "collapsed": false
   },
   "outputs": [
    {
     "name": "stdout",
     "output_type": "stream",
     "text": [
      "cloud-docker.cisco.com/rhel7.1\n",
      "+-dockbler-app\n",
      "+-dockbler-data\n",
      "+-elk-base\n",
      "+-dockbler-rhel71\n",
      "+-rhel-osp-base\n",
      "  +-nova-libvirt\n",
      "  +-cloudpulse\n",
      "  +-nova-base\n",
      "    +-nova-novncproxy\n",
      "    +-nova-compute\n",
      "    +-nova-conductor\n",
      "    +-nova-api\n",
      "    +-nova-common\n",
      "    +-nova-consoleauth\n",
      "    +-nova-network\n",
      "    +-nova-scheduler\n",
      "  +-zaqar\n",
      "  +-hautoproxy\n",
      "  +-logstash-forwarder\n",
      "  +-ceilometer-base\n",
      "    +-ceilometer-collector\n",
      "    +-ceilometer-notification\n",
      "    +-ceilometer-api\n",
      "    +-ceilometer-compute\n",
      "    +-ceilometer-alarm\n",
      "    +-ceilometer-central\n",
      "  +-cinder-base\n",
      "    +-cinder-api\n",
      "    +-cinder-volume\n",
      "    +-cinder-scheduler\n",
      "  +-heat-base\n",
      "    +-heat-engine\n",
      "    +-heat-api\n",
      "  +-mongodb\n",
      "  +-mariadb-app\n",
      "  +-nova-compute-data\n",
      "  +-keystone\n",
      "  +-rabbitmq\n",
      "  +-horizon\n",
      "  +-neutron-base\n",
      "    +-neutron-server\n",
      "    +-linux-bridge\n",
      "    +-l3\n",
      "    +-neutron-common\n",
      "    +-dhcp\n",
      "    +-metadata\n",
      "  +-glance-base\n",
      "    +-glance-api\n",
      "    +-glance-registry\n",
      "  +-barbican\n",
      "  +-swift-base\n",
      "    +-swift-proxy-server\n",
      "    +-swift-account\n",
      "    +-swift-container\n",
      "    +-swift-object\n",
      "  +-memcached\n",
      "  +-mariadb-data\n",
      "\n",
      "centos\n",
      "+-centos-rdo-base\n",
      "\n",
      "cloud-docker.cisco.com/lmh/rhel7.0-ansible\n",
      "+-elk\n",
      "\n",
      "lmh/elk\n",
      "+-elasticsearch\n",
      "\n",
      "cloud-docker.cisco.com/lmh/elk\n",
      "+-logstash\n",
      "+-kibana\n",
      "\n",
      "fedora:20\n",
      "+-fedora-rdo-base\n",
      "\n"
     ]
    }
   ],
   "source": [
    "for s in roots:\n",
    "    print(s)\n",
    "    spacer = {s: 0}\n",
    "    for prereq, target in nx.dfs_edges(graph, s):\n",
    "        spacer[target] = spacer[prereq] + 2\n",
    "        print('{spacer}+-{t}'.format(\n",
    "            spacer=' ' * spacer[prereq], t=target))\n",
    "\n",
    "    print('')"
   ]
  },
  {
   "cell_type": "code",
   "execution_count": 10,
   "metadata": {
    "collapsed": false
   },
   "outputs": [],
   "source": [
    "from ordered_set import OrderedSet"
   ]
  },
  {
   "cell_type": "markdown",
   "metadata": {},
   "source": [
    "### Recursively walk down the tree looking for matches to changed_containers"
   ]
  },
  {
   "cell_type": "code",
   "execution_count": 11,
   "metadata": {
    "collapsed": false
   },
   "outputs": [],
   "source": [
    "def intersection(container, changed_containers):\n",
    "    if container in changed_containers:\n",
    "        selected.add(container)\n",
    "        for desc in nx.topological_sort(graph,\n",
    "                                        nbunch=[container]):\n",
    "            selected.add(desc)\n",
    "        return\n",
    "    for child in graph.successors(container):\n",
    "        intersection(child, changed_containers)\n"
   ]
  },
  {
   "cell_type": "markdown",
   "metadata": {},
   "source": [
    "### Important Base Container Changed"
   ]
  },
  {
   "cell_type": "code",
   "execution_count": 12,
   "metadata": {
    "collapsed": false
   },
   "outputs": [
    {
     "name": "stdout",
     "output_type": "stream",
     "text": [
      "['rhel-osp-base', 'nova-libvirt', 'cloudpulse', 'nova-base', 'nova-novncproxy', 'nova-compute', 'nova-conductor', 'nova-api', 'nova-common', 'nova-consoleauth', 'nova-network', 'nova-scheduler', 'zaqar', 'hautoproxy', 'logstash-forwarder', 'ceilometer-base', 'ceilometer-collector', 'ceilometer-notification', 'ceilometer-api', 'ceilometer-compute', 'ceilometer-alarm', 'ceilometer-central', 'cinder-base', 'cinder-api', 'cinder-volume', 'cinder-scheduler', 'heat-base', 'heat-engine', 'heat-api', 'mongodb', 'mariadb-app', 'nova-compute-data', 'keystone', 'rabbitmq', 'horizon', 'neutron-base', 'neutron-server', 'linux-bridge', 'l3', 'neutron-common', 'dhcp', 'metadata', 'glance-base', 'glance-api', 'glance-registry', 'barbican', 'swift-base', 'swift-proxy-server', 'swift-account', 'swift-container', 'swift-object', 'memcached', 'mariadb-data']\n"
     ]
    }
   ],
   "source": [
    "selected = OrderedSet()\n",
    "changed_containers = ['rhel-osp-base']\n",
    "for root in roots:\n",
    "    intersection(root, changed_containers)\n",
    "print([x for x in selected])"
   ]
  },
  {
   "cell_type": "markdown",
   "metadata": {},
   "source": [
    "### Intermediary Container Changed"
   ]
  },
  {
   "cell_type": "code",
   "execution_count": 13,
   "metadata": {
    "collapsed": false
   },
   "outputs": [
    {
     "name": "stdout",
     "output_type": "stream",
     "text": [
      "['nova-base', 'nova-novncproxy', 'nova-compute', 'nova-conductor', 'nova-api', 'nova-common', 'nova-consoleauth', 'nova-network', 'nova-scheduler']\n"
     ]
    }
   ],
   "source": [
    "selected = OrderedSet()\n",
    "changed_containers = ['nova-base']\n",
    "for root in roots:\n",
    "    intersection(root, changed_containers)\n",
    "print([x for x in selected])"
   ]
  },
  {
   "cell_type": "markdown",
   "metadata": {},
   "source": [
    "### Disconnected Root Container Changed"
   ]
  },
  {
   "cell_type": "code",
   "execution_count": 14,
   "metadata": {
    "collapsed": false
   },
   "outputs": [
    {
     "name": "stdout",
     "output_type": "stream",
     "text": [
      "['centos', 'centos-rdo-base']\n"
     ]
    }
   ],
   "source": [
    "selected = OrderedSet()\n",
    "changed_containers = ['centos']\n",
    "for root in roots:\n",
    "    intersection(root, changed_containers)\n",
    "print([x for x in selected])"
   ]
  },
  {
   "cell_type": "markdown",
   "metadata": {},
   "source": [
    "### Single container with no dependants"
   ]
  },
  {
   "cell_type": "code",
   "execution_count": 15,
   "metadata": {
    "collapsed": false
   },
   "outputs": [
    {
     "name": "stdout",
     "output_type": "stream",
     "text": [
      "['ceilometer-compute']\n"
     ]
    }
   ],
   "source": [
    "selected = OrderedSet()\n",
    "changed_containers = ['ceilometer-compute']\n",
    "for root in roots:\n",
    "    intersection(root, changed_containers)\n",
    "print([x for x in selected])"
   ]
  }
 ],
 "metadata": {
  "kernelspec": {
   "display_name": "Python 2",
   "language": "python",
   "name": "python2"
  },
  "language_info": {
   "codemirror_mode": {
    "name": "ipython",
    "version": 2
   },
   "file_extension": ".py",
   "mimetype": "text/x-python",
   "name": "python",
   "nbconvert_exporter": "python",
   "pygments_lexer": "ipython2",
   "version": "2.7.5"
  }
 },
 "nbformat": 4,
 "nbformat_minor": 0
}
